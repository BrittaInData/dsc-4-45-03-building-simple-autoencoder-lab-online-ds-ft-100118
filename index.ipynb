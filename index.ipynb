{
 "cells": [
  {
   "cell_type": "markdown",
   "metadata": {},
   "source": [
    "# Building a Simple Autoencoder - Lab\n",
    "\n",
    "## Introduction\n",
    "In this lab, we will try to build a simple autoencoder using Keras. We will work with the fashion-MNIST dataset to work out a problem of image compression and reconstruction. With a simple AE, the results may not be highly impressive, but the key takeaway from this lab is to see how the encoding/decoding functions are implemented neural nets and are differentiable with respect to the distance function. The differentiable part enables optimizing the parameters of the encoding/decoding functions to minimize the reconstruction loss.\n",
    "\n",
    "Note: Refer to [Keras dcumentation](https://keras.io/) for details on methods used in this lab. \n",
    "\n",
    "## Objectives\n",
    "\n",
    "You will be able to:\n",
    "\n",
    "- Build a simple autoencoder in Keras\n",
    "- Create the encoder and decoder functions as fully connected layers of a feed forward styled neural network. \n",
    "- Train an autoencoder with selected loss function and optimizer."
   ]
  },
  {
   "cell_type": "markdown",
   "metadata": {},
   "source": [
    "First let's import all the necessary libraries required for this experiment."
   ]
  },
  {
   "cell_type": "code",
   "execution_count": 2,
   "metadata": {},
   "outputs": [],
   "source": [
    "# Import necessary libraries\n",
    "import numpy as np\n",
    "\n",
    "import keras\n",
    "from keras import regularizers\n",
    "from keras.layers import Input, Dense, Conv2D, MaxPooling2D, UpSampling2D, Flatten, Reshape\n",
    "from keras.models import Model, Sequential\n",
    "from keras.datasets import fashion_mnist\n",
    "\n",
    "import matplotlib.pyplot as plt\n",
    "from IPython.display import Image"
   ]
  },
  {
   "cell_type": "markdown",
   "metadata": {},
   "source": [
    "## The Fashion-MNIST dataset\n",
    "\n",
    "We have already seen the popular MNIST dataset in our previous lessons. Let's load the very similar [\"fashion-mnist\" dataset](https://github.com/zalandoresearch/fashion-mnist). \n",
    "\n",
    "*\"Fashion-MNIST is a dataset of Zalando's article images—consisting of a training set of 60,000 examples and a test set of 10,000 examples. Each example is a 28x28 grayscale image, associated with a label from 10 classes. We intend Fashion-MNIST to serve as a direct drop-in replacement for the original MNIST dataset for benchmarking machine learning algorithms. It shares the same image size and structure of training and testing splits.\"* \n",
    "\n",
    "This dataset comes packaged with keras and can be loaded using `fashion_mnist.load_data()`. More details on keras datasets can be seen on [keras documentation](https://keras.io/datasets/). Below is a quick sample of images that you may find in this dataset.\n",
    "\n",
    "<img src=\"dataset.png\" width=700>\n",
    "\n",
    "Perform following tasks:\n",
    "- Load the Fashion-mnist feature set into test and training datasets (ignore labels/targets for now)\n",
    "- Normalize the values of train and test datasets between 0 and 1\n",
    "- Check the shape of both datasets created above. "
   ]
  },
  {
   "cell_type": "code",
   "execution_count": 3,
   "metadata": {},
   "outputs": [
    {
     "name": "stdout",
     "output_type": "stream",
     "text": [
      "Downloading data from http://fashion-mnist.s3-website.eu-central-1.amazonaws.com/train-labels-idx1-ubyte.gz\n",
      "32768/29515 [=================================] - 0s 1us/step\n",
      "Downloading data from http://fashion-mnist.s3-website.eu-central-1.amazonaws.com/train-images-idx3-ubyte.gz\n",
      "26427392/26421880 [==============================] - 9s 0us/step\n",
      "Downloading data from http://fashion-mnist.s3-website.eu-central-1.amazonaws.com/t10k-labels-idx1-ubyte.gz\n",
      "8192/5148 [===============================================] - 0s 0us/step\n",
      "Downloading data from http://fashion-mnist.s3-website.eu-central-1.amazonaws.com/t10k-images-idx3-ubyte.gz\n",
      "4423680/4422102 [==============================] - 2s 0us/step\n"
     ]
    },
    {
     "data": {
      "text/plain": [
       "((60000, 28, 28), (10000, 28, 28))"
      ]
     },
     "execution_count": 3,
     "metadata": {},
     "output_type": "execute_result"
    }
   ],
   "source": [
    "# Load the training and test data sets (ignoring labels)\n",
    "(x_train, _), (x_test, _) = fashion_mnist.load_data()\n",
    "\n",
    "# Normalize the train and test data to a range between 0 and 1\n",
    "max_value = float(x_train.max())\n",
    "x_train   = x_train.astype('float32') / max_value\n",
    "x_test    = x_test.astype('float32') / max_value\n",
    "x_train.shape, x_test.shape"
   ]
  },
  {
   "cell_type": "markdown",
   "metadata": {},
   "source": [
    "Above we see that we have **3D arrays of train and test datasets containg 60K and 10K images of size 28x28 pixels**. To work with the images as vectors, let’s reshape the 3D arrays as 2D matrices. \n",
    "\n",
    "- Reshape the 28 x 28 images into vectors of length 784 for both train and test set\n",
    "- Print the shape of new datasets"
   ]
  },
  {
   "cell_type": "code",
   "execution_count": 4,
   "metadata": {},
   "outputs": [
    {
     "data": {
      "text/plain": [
       "((60000, 784), (10000, 784))"
      ]
     },
     "execution_count": 4,
     "metadata": {},
     "output_type": "execute_result"
    }
   ],
   "source": [
    "# Reshape the training data to create 1D vectors\n",
    "x_train = x_train.reshape((len(x_train), \n",
    "                           np.prod(x_train.shape[1:])))\n",
    "\n",
    "x_test  = x_test.reshape((len(x_test), \n",
    "                          np.prod(x_test.shape[1:])))\n",
    "\n",
    "(x_train.shape, x_test.shape)"
   ]
  },
  {
   "cell_type": "markdown",
   "metadata": {},
   "source": [
    "## Build a Simple AutoEncoder\n",
    "\n",
    "With our pre-processed data, we can start building a simple autoencoder with it. The encoder and decoder functions are each __fully-connected__ neural layers. The encoder function will use a __ReLU__ (Rectified Linear Unit) activation function, while the decoder function uses a __sigmoid__ activation function.\n",
    "\n",
    "[Here is a good reference on non-linear functions](https://towardsdatascience.com/activation-functions-and-its-types-which-is-better-a9a5310cc8f). \n",
    "\n",
    "> The encoder layer encodes the input image as a compressed, latent representation with reduced dimensionality. The decoder layer decodes the encoded image back to the original dimension. \n",
    "\n",
    "Here we will create the compressed representation with 32 dimensions with a __compression factor__  784 / 32 = 24.5\n",
    "\n",
    "Let's build our Model . Perform following tasks.\n",
    "\n",
    "- Define encoding dimensions (32) and calculate/print the compression factor\n",
    "- Create a `Sequential()` autoencoder model in Keras\n",
    "\n",
    "- Create a fully connected  __encoder layer__  to reduce the dimension from the original 784-dimensional vector to encoded 32-dimensional vector. Use the `relu` activation function\n",
    "\n",
    "- Create a fully connected __decoder layer__ to restore the dimension from the encoded 32-dimensional representation back to the original 784-dimensional vector.Use `sigmoid` activation function\n",
    "\n",
    "- Print he model summary "
   ]
  },
  {
   "cell_type": "code",
   "execution_count": 6,
   "metadata": {
    "scrolled": true
   },
   "outputs": [
    {
     "name": "stdout",
     "output_type": "stream",
     "text": [
      "24.5\n",
      "Compression factor: 24.5\n"
     ]
    }
   ],
   "source": [
    "# input dimension = 784 (see shape) \n",
    "input_dim = x_train.shape[1] \n",
    "\n",
    "# encoding dimensions (see tasks)\n",
    "encoding_dim = 32\n",
    "\n",
    "# Calculate the compression factor\n",
    "compression_factor = float(input_dim) / encoding_dim\n",
    "\n",
    "print(f\"Compression factor: {compression_factor}\")"
   ]
  },
  {
   "cell_type": "code",
   "execution_count": 7,
   "metadata": {},
   "outputs": [
    {
     "name": "stdout",
     "output_type": "stream",
     "text": [
      "_________________________________________________________________\n",
      "Layer (type)                 Output Shape              Param #   \n",
      "=================================================================\n",
      "dense_1 (Dense)              (None, 32)                25120     \n",
      "_________________________________________________________________\n",
      "dense_2 (Dense)              (None, 784)               25872     \n",
      "=================================================================\n",
      "Total params: 50,992\n",
      "Trainable params: 50,992\n",
      "Non-trainable params: 0\n",
      "_________________________________________________________________\n"
     ]
    }
   ],
   "source": [
    "# Build the autoencoder model \n",
    "autoencoder = Sequential()\n",
    "\n",
    "# Encoder Layer\n",
    "autoencoder.add(Dense(encoding_dim, input_shape=(input_dim, ), activation='relu'))\n",
    "\n",
    "# Decoder Layer\n",
    "autoencoder.add(Dense(input_dim, activation='sigmoid'))\n",
    "\n",
    "# Show model summary\n",
    "autoencoder.summary()"
   ]
  },
  {
   "cell_type": "markdown",
   "metadata": {},
   "source": [
    "## Inspect the Encoder\n",
    "Let's try to examine how a compressed representation compares to the original image. We can extract the encoder model from the first layer of the autoencoder model created above. \n",
    "\n",
    "- Extract the first layer of autoencoder to create a new `encoder` model in Keras\n",
    "- Show the summary of encoder model"
   ]
  },
  {
   "cell_type": "code",
   "execution_count": 8,
   "metadata": {},
   "outputs": [
    {
     "name": "stdout",
     "output_type": "stream",
     "text": [
      "_________________________________________________________________\n",
      "Layer (type)                 Output Shape              Param #   \n",
      "=================================================================\n",
      "input_1 (InputLayer)         (None, 784)               0         \n",
      "_________________________________________________________________\n",
      "dense_1 (Dense)              (None, 32)                25120     \n",
      "=================================================================\n",
      "Total params: 25,120\n",
      "Trainable params: 25,120\n",
      "Non-trainable params: 0\n",
      "_________________________________________________________________\n"
     ]
    }
   ],
   "source": [
    "input_img = Input(shape=(input_dim,))\n",
    "\n",
    "# Extract the first layer of autoencoder ...\n",
    "encoder_layer = autoencoder.layers[0]\n",
    "\n",
    "# ... to create a new encoder model in Keras\n",
    "encoder = Model(input_img, encoder_layer(input_img))\n",
    "\n",
    "encoder.summary()"
   ]
  },
  {
   "cell_type": "markdown",
   "metadata": {},
   "source": [
    "This looks about right. We are now ready to train our autoencoder model. "
   ]
  },
  {
   "cell_type": "markdown",
   "metadata": {},
   "source": [
    "## Training the Model \n",
    "\n",
    "In order to train the model, We need to perform following tasks: \n",
    "- Compile the autoencoder model with `adam` optimization with `binary_crossentropy` loss (The purpose of the loss function is to reconstruct an image similar to the input image). \n",
    "- Fit the model with training dataset for both input and output (this implies image reconstruction)\n",
    "- Iterate on the training data in batches of 256 in 20 epochs. Set `shuffle` to True for shuffling the batches.\n",
    "- Use the test data for validation \n",
    "\n",
    "(Try increasing number of epochs and observe the effect on learning)"
   ]
  },
  {
   "cell_type": "code",
   "execution_count": 9,
   "metadata": {},
   "outputs": [
    {
     "name": "stdout",
     "output_type": "stream",
     "text": [
      "Train on 60000 samples, validate on 10000 samples\n",
      "Epoch 1/20\n",
      "60000/60000 [==============================] - 19s 317us/step - loss: 0.4172 - val_loss: 0.3415\n",
      "Epoch 2/20\n",
      "60000/60000 [==============================] - 14s 238us/step - loss: 0.3250 - val_loss: 0.3178\n",
      "Epoch 3/20\n",
      "60000/60000 [==============================] - 16s 260us/step - loss: 0.3104 - val_loss: 0.3077\n",
      "Epoch 4/20\n",
      "60000/60000 [==============================] - 18s 307us/step - loss: 0.3018 - val_loss: 0.3005\n",
      "Epoch 5/20\n",
      "60000/60000 [==============================] - 17s 287us/step - loss: 0.2956 - val_loss: 0.2956\n",
      "Epoch 6/20\n",
      "60000/60000 [==============================] - 19s 317us/step - loss: 0.2915 - val_loss: 0.2924\n",
      "Epoch 7/20\n",
      "60000/60000 [==============================] - 16s 261us/step - loss: 0.2890 - val_loss: 0.2902\n",
      "Epoch 8/20\n",
      "60000/60000 [==============================] - 22s 360us/step - loss: 0.2875 - val_loss: 0.2891\n",
      "Epoch 9/20\n",
      "60000/60000 [==============================] - 14s 235us/step - loss: 0.2865 - val_loss: 0.2883\n",
      "Epoch 10/20\n",
      "60000/60000 [==============================] - 16s 262us/step - loss: 0.2858 - val_loss: 0.2877\n",
      "Epoch 11/20\n",
      "60000/60000 [==============================] - 14s 240us/step - loss: 0.2854 - val_loss: 0.2875\n",
      "Epoch 12/20\n",
      "60000/60000 [==============================] - 15s 256us/step - loss: 0.2850 - val_loss: 0.2870\n",
      "Epoch 13/20\n",
      "60000/60000 [==============================] - 16s 273us/step - loss: 0.2846 - val_loss: 0.2867\n",
      "Epoch 14/20\n",
      "60000/60000 [==============================] - 15s 249us/step - loss: 0.2844 - val_loss: 0.2865\n",
      "Epoch 15/20\n",
      "60000/60000 [==============================] - 15s 247us/step - loss: 0.2842 - val_loss: 0.2863\n",
      "Epoch 16/20\n",
      "60000/60000 [==============================] - 15s 247us/step - loss: 0.2840 - val_loss: 0.2861\n",
      "Epoch 17/20\n",
      "60000/60000 [==============================] - 15s 253us/step - loss: 0.2835 - val_loss: 0.2855\n",
      "Epoch 18/20\n",
      "60000/60000 [==============================] - 16s 262us/step - loss: 0.2832 - val_loss: 0.2854\n",
      "Epoch 19/20\n",
      "60000/60000 [==============================] - 16s 261us/step - loss: 0.2830 - val_loss: 0.2852\n",
      "Epoch 20/20\n",
      "60000/60000 [==============================] - 15s 247us/step - loss: 0.2829 - val_loss: 0.2851\n"
     ]
    },
    {
     "data": {
      "text/plain": [
       "<keras.callbacks.History at 0xb484f9da0>"
      ]
     },
     "execution_count": 9,
     "metadata": {},
     "output_type": "execute_result"
    }
   ],
   "source": [
    "autoencoder.compile(optimizer='adam', loss='binary_crossentropy')\n",
    "\n",
    "autoencoder.fit(x=x_train, y=x_train, batch_size=256, epochs=20, shuffle=True,\n",
    "               validation_data=(x_test, x_test))"
   ]
  },
  {
   "cell_type": "markdown",
   "metadata": {},
   "source": [
    "Great, We’ve successfully trained our autoencoder. Our  autoencoder model can now compress a Fashion MNIST image down to 32 floating-point digits."
   ]
  },
  {
   "cell_type": "markdown",
   "metadata": {},
   "source": [
    "## Visualize The Results\n",
    "\n",
    "To visually inspect the quality of compressed images, let's pick up a few images randomly and see how their  reconstruction looks. \n",
    "\n",
    "- Select 10 images randomly from the test set\n",
    "- Uee the `encoder` model to predict encoded representation (the code) for chosen images\n",
    "- Use the `autoencoder` model to get the reconstructed images\n",
    "- For each image, show the actual image, the compressed representation and the reconstruction "
   ]
  },
  {
   "cell_type": "code",
   "execution_count": 11,
   "metadata": {},
   "outputs": [
    {
     "data": {
      "image/png": "[encoded data removed]",
      "text/plain": [
       "<Figure size 1296x288 with 30 Axes>"
      ]
     },
     "metadata": {
      "needs_background": "light"
     },
     "output_type": "display_data"
    }
   ],
   "source": [
    "# Randomly Select 10 images from the test set \n",
    "num_images = 10\n",
    "np.random.seed(50)\n",
    "random_test_images = np.random.randint(x_test.shape[0], size=num_images)\n",
    "\n",
    "encoded_imgs = encoder.predict(x_test)\n",
    "decoded_imgs = autoencoder.predict(x_test)\n",
    "\n",
    "plt.figure(figsize=(18, 4))\n",
    "\n",
    "for i, image_idx in enumerate(random_test_images):\n",
    "    \n",
    "    # plot original image\n",
    "    ax = plt.subplot(3, num_images, i + 1)\n",
    "    plt.imshow(x_test[image_idx].reshape(28, 28))\n",
    "    plt.gray()\n",
    "    ax.get_xaxis().set_visible(False)\n",
    "    ax.get_yaxis().set_visible(False)\n",
    "    \n",
    "    # plot encoded image\n",
    "    ax = plt.subplot(3, num_images, num_images + i + 1)\n",
    "    plt.imshow(encoded_imgs[image_idx].reshape(8, 4))\n",
    "    plt.gray()\n",
    "    ax.get_xaxis().set_visible(False)\n",
    "    ax.get_yaxis().set_visible(False)\n",
    "\n",
    "    # plot reconstructed image\n",
    "    ax = plt.subplot(3, num_images, 2*num_images + i + 1)\n",
    "    plt.imshow(decoded_imgs[image_idx].reshape(28, 28))\n",
    "    plt.gray()\n",
    "    ax.get_xaxis().set_visible(False)\n",
    "    ax.get_yaxis().set_visible(False)\n",
    "\n",
    "plt.show()"
   ]
  },
  {
   "cell_type": "markdown",
   "metadata": {},
   "source": [
    "We can see, as expected, the reconstructed images are quite lossy due to the huge reduction in dimensionality. We can see the shapes of these objects clearly, but the loss in image quality has taken away a lot of distinguishing features. So the compression is not highly impressive, but it works , and proves the point. We can improve the performance of such AEs using deeper networks as we shall see in our next lab. "
   ]
  },
  {
   "cell_type": "markdown",
   "metadata": {},
   "source": [
    "## Summary \n",
    "\n",
    "In this lab, we built a simple autoencoder using the fashion-MNIST dataset for a problem of image compression. We looked into creating the encoder and decoder layers in Keras and Training the model. We also visually inspected the results of this compression. "
   ]
  }
 ],
 "metadata": {
  "kernelspec": {
   "display_name": "Python 3",
   "language": "python",
   "name": "python3"
  },
  "language_info": {
   "codemirror_mode": {
    "name": "ipython",
    "version": 3
   },
   "file_extension": ".py",
   "mimetype": "text/x-python",
   "name": "python",
   "nbconvert_exporter": "python",
   "pygments_lexer": "ipython3",
   "version": "3.6.8"
  }
 },
 "nbformat": 4,
 "nbformat_minor": 2
}
